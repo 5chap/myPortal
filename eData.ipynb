{
  "nbformat": 4,
  "nbformat_minor": 0,
  "metadata": {
    "colab": {
      "name": "eData",
      "provenance": [],
      "collapsed_sections": [],
      "mount_file_id": "1L3FQx9kqG2BPWYqnzjSgMFK4jIPF1r5W",
      "authorship_tag": "ABX9TyPKnVWJy1Uk36unStuBmL2M",
      "include_colab_link": true
    },
    "kernelspec": {
      "name": "python3",
      "display_name": "Python 3"
    }
  },
  "cells": [
    {
      "cell_type": "markdown",
      "metadata": {
        "id": "view-in-github",
        "colab_type": "text"
      },
      "source": [
        "<a href=\"https://colab.research.google.com/github/5chap/myPortal/blob/master/eData.ipynb\" target=\"_parent\"><img src=\"https://colab.research.google.com/assets/colab-badge.svg\" alt=\"Open In Colab\"/></a>"
      ]
    },
    {
      "cell_type": "markdown",
      "metadata": {
        "id": "G8zOK2mmMWGt",
        "colab_type": "text"
      },
      "source": [
        "# **HAMOYE INTERNSHIP STAGE A QUIZ**"
      ]
    },
    {
      "cell_type": "code",
      "metadata": {
        "id": "ucr8HbCiiUKO",
        "colab_type": "code",
        "colab": {}
      },
      "source": [
        "# import external electricity utility data as comma seperated list(csv)\n",
        "import pandas as pd\n",
        "from sklearn.ensemble import RandomForestRegressor\n",
        "from sklearn.metrics import mean_absolute_error\n",
        "from sklearn.model_selection import train_test_split\n",
        "pd.plotting.register_matplotlib_converters()\n",
        "import matplotlib.pyplot as plt\n",
        "%matplotlib inline\n",
        "import seaborn as sns\n",
        "import numpy as np\n",
        "\n",
        "\n",
        "\n",
        "eData = pd.read_csv(\"https://raw.githubusercontent.com/WalePhenomenon/climate_change/master/fuel_ferc1.csv\")\n"
      ],
      "execution_count": null,
      "outputs": []
    },
    {
      "cell_type": "code",
      "metadata": {
        "id": "ejfGNYVwQhtN",
        "colab_type": "code",
        "colab": {
          "base_uri": "https://localhost:8080/",
          "height": 34
        },
        "outputId": "77d7938e-daf4-4b4f-bb66-f797058fc1c5"
      },
      "source": [
        "# Total number of rows(records) and columns(feature names) in the fuel dataset\n",
        "# 29523 rows and 11 columns\n",
        "eData.shape"
      ],
      "execution_count": null,
      "outputs": [
        {
          "output_type": "execute_result",
          "data": {
            "text/plain": [
              "(29523, 11)"
            ]
          },
          "metadata": {
            "tags": []
          },
          "execution_count": 25
        }
      ]
    },
    {
      "cell_type": "code",
      "metadata": {
        "id": "2CXaNFNvP0Dm",
        "colab_type": "code",
        "colab": {
          "base_uri": "https://localhost:8080/",
          "height": 225
        },
        "outputId": "2add480a-493d-4a56-a428-eb35dfc38a3e"
      },
      "source": [
        "# Data types of individual columns in the fuel dataset\n",
        "eData.dtypes"
      ],
      "execution_count": null,
      "outputs": [
        {
          "output_type": "execute_result",
          "data": {
            "text/plain": [
              "record_id                        object\n",
              "utility_id_ferc1                  int64\n",
              "report_year                       int64\n",
              "plant_name_ferc1                 object\n",
              "fuel_type_code_pudl              object\n",
              "fuel_unit                        object\n",
              "fuel_qty_burned                 float64\n",
              "fuel_mmbtu_per_unit             float64\n",
              "fuel_cost_per_unit_burned       float64\n",
              "fuel_cost_per_unit_delivered    float64\n",
              "fuel_cost_per_mmbtu             float64\n",
              "dtype: object"
            ]
          },
          "metadata": {
            "tags": []
          },
          "execution_count": 24
        }
      ]
    },
    {
      "cell_type": "code",
      "metadata": {
        "id": "e3myQFu8NCQt",
        "colab_type": "code",
        "colab": {
          "base_uri": "https://localhost:8080/",
          "height": 226
        },
        "outputId": "6afcffbe-9e48-4b0e-9f12-3f1fe7aeb926"
      },
      "source": [
        "# first five rows in the eData fuel dataset\n",
        "eData.head()"
      ],
      "execution_count": null,
      "outputs": [
        {
          "output_type": "execute_result",
          "data": {
            "text/html": [
              "<div>\n",
              "<style scoped>\n",
              "    .dataframe tbody tr th:only-of-type {\n",
              "        vertical-align: middle;\n",
              "    }\n",
              "\n",
              "    .dataframe tbody tr th {\n",
              "        vertical-align: top;\n",
              "    }\n",
              "\n",
              "    .dataframe thead th {\n",
              "        text-align: right;\n",
              "    }\n",
              "</style>\n",
              "<table border=\"1\" class=\"dataframe\">\n",
              "  <thead>\n",
              "    <tr style=\"text-align: right;\">\n",
              "      <th></th>\n",
              "      <th>record_id</th>\n",
              "      <th>utility_id_ferc1</th>\n",
              "      <th>report_year</th>\n",
              "      <th>plant_name_ferc1</th>\n",
              "      <th>fuel_type_code_pudl</th>\n",
              "      <th>fuel_unit</th>\n",
              "      <th>fuel_qty_burned</th>\n",
              "      <th>fuel_mmbtu_per_unit</th>\n",
              "      <th>fuel_cost_per_unit_burned</th>\n",
              "      <th>fuel_cost_per_unit_delivered</th>\n",
              "      <th>fuel_cost_per_mmbtu</th>\n",
              "    </tr>\n",
              "  </thead>\n",
              "  <tbody>\n",
              "    <tr>\n",
              "      <th>0</th>\n",
              "      <td>f1_fuel_1994_12_1_0_7</td>\n",
              "      <td>1</td>\n",
              "      <td>1994</td>\n",
              "      <td>rockport</td>\n",
              "      <td>coal</td>\n",
              "      <td>ton</td>\n",
              "      <td>5377489.0</td>\n",
              "      <td>16.590</td>\n",
              "      <td>18.59</td>\n",
              "      <td>18.53</td>\n",
              "      <td>1.121</td>\n",
              "    </tr>\n",
              "    <tr>\n",
              "      <th>1</th>\n",
              "      <td>f1_fuel_1994_12_1_0_10</td>\n",
              "      <td>1</td>\n",
              "      <td>1994</td>\n",
              "      <td>rockport total plant</td>\n",
              "      <td>coal</td>\n",
              "      <td>ton</td>\n",
              "      <td>10486945.0</td>\n",
              "      <td>16.592</td>\n",
              "      <td>18.58</td>\n",
              "      <td>18.53</td>\n",
              "      <td>1.120</td>\n",
              "    </tr>\n",
              "    <tr>\n",
              "      <th>2</th>\n",
              "      <td>f1_fuel_1994_12_2_0_1</td>\n",
              "      <td>2</td>\n",
              "      <td>1994</td>\n",
              "      <td>gorgas</td>\n",
              "      <td>coal</td>\n",
              "      <td>ton</td>\n",
              "      <td>2978683.0</td>\n",
              "      <td>24.130</td>\n",
              "      <td>39.72</td>\n",
              "      <td>38.12</td>\n",
              "      <td>1.650</td>\n",
              "    </tr>\n",
              "    <tr>\n",
              "      <th>3</th>\n",
              "      <td>f1_fuel_1994_12_2_0_7</td>\n",
              "      <td>2</td>\n",
              "      <td>1994</td>\n",
              "      <td>barry</td>\n",
              "      <td>coal</td>\n",
              "      <td>ton</td>\n",
              "      <td>3739484.0</td>\n",
              "      <td>23.950</td>\n",
              "      <td>47.21</td>\n",
              "      <td>45.99</td>\n",
              "      <td>1.970</td>\n",
              "    </tr>\n",
              "    <tr>\n",
              "      <th>4</th>\n",
              "      <td>f1_fuel_1994_12_2_0_10</td>\n",
              "      <td>2</td>\n",
              "      <td>1994</td>\n",
              "      <td>chickasaw</td>\n",
              "      <td>gas</td>\n",
              "      <td>mcf</td>\n",
              "      <td>40533.0</td>\n",
              "      <td>1.000</td>\n",
              "      <td>2.77</td>\n",
              "      <td>2.77</td>\n",
              "      <td>2.570</td>\n",
              "    </tr>\n",
              "  </tbody>\n",
              "</table>\n",
              "</div>"
            ],
            "text/plain": [
              "                record_id  ...  fuel_cost_per_mmbtu\n",
              "0   f1_fuel_1994_12_1_0_7  ...                1.121\n",
              "1  f1_fuel_1994_12_1_0_10  ...                1.120\n",
              "2   f1_fuel_1994_12_2_0_1  ...                1.650\n",
              "3   f1_fuel_1994_12_2_0_7  ...                1.970\n",
              "4  f1_fuel_1994_12_2_0_10  ...                2.570\n",
              "\n",
              "[5 rows x 11 columns]"
            ]
          },
          "metadata": {
            "tags": []
          },
          "execution_count": 16
        }
      ]
    },
    {
      "cell_type": "code",
      "metadata": {
        "id": "C1ldIcD4PDiG",
        "colab_type": "code",
        "colab": {
          "base_uri": "https://localhost:8080/",
          "height": 244
        },
        "outputId": "3a68223d-5647-4d8f-b382-fad57dfa2843"
      },
      "source": [
        "# last five rows in the eData fuel dataset\n",
        "eData.tail()"
      ],
      "execution_count": null,
      "outputs": [
        {
          "output_type": "execute_result",
          "data": {
            "text/html": [
              "<div>\n",
              "<style scoped>\n",
              "    .dataframe tbody tr th:only-of-type {\n",
              "        vertical-align: middle;\n",
              "    }\n",
              "\n",
              "    .dataframe tbody tr th {\n",
              "        vertical-align: top;\n",
              "    }\n",
              "\n",
              "    .dataframe thead th {\n",
              "        text-align: right;\n",
              "    }\n",
              "</style>\n",
              "<table border=\"1\" class=\"dataframe\">\n",
              "  <thead>\n",
              "    <tr style=\"text-align: right;\">\n",
              "      <th></th>\n",
              "      <th>record_id</th>\n",
              "      <th>utility_id_ferc1</th>\n",
              "      <th>report_year</th>\n",
              "      <th>plant_name_ferc1</th>\n",
              "      <th>fuel_type_code_pudl</th>\n",
              "      <th>fuel_unit</th>\n",
              "      <th>fuel_qty_burned</th>\n",
              "      <th>fuel_mmbtu_per_unit</th>\n",
              "      <th>fuel_cost_per_unit_burned</th>\n",
              "      <th>fuel_cost_per_unit_delivered</th>\n",
              "      <th>fuel_cost_per_mmbtu</th>\n",
              "    </tr>\n",
              "  </thead>\n",
              "  <tbody>\n",
              "    <tr>\n",
              "      <th>29518</th>\n",
              "      <td>f1_fuel_2018_12_12_0_13</td>\n",
              "      <td>12</td>\n",
              "      <td>2018</td>\n",
              "      <td>neil simpson ct #1</td>\n",
              "      <td>gas</td>\n",
              "      <td>mcf</td>\n",
              "      <td>18799.0</td>\n",
              "      <td>1.059</td>\n",
              "      <td>4.78</td>\n",
              "      <td>4.78</td>\n",
              "      <td>9.03</td>\n",
              "    </tr>\n",
              "    <tr>\n",
              "      <th>29519</th>\n",
              "      <td>f1_fuel_2018_12_12_1_1</td>\n",
              "      <td>12</td>\n",
              "      <td>2018</td>\n",
              "      <td>cheyenne prairie 58%</td>\n",
              "      <td>gas</td>\n",
              "      <td>mcf</td>\n",
              "      <td>806730.0</td>\n",
              "      <td>1.050</td>\n",
              "      <td>3.65</td>\n",
              "      <td>3.65</td>\n",
              "      <td>6.95</td>\n",
              "    </tr>\n",
              "    <tr>\n",
              "      <th>29520</th>\n",
              "      <td>f1_fuel_2018_12_12_1_10</td>\n",
              "      <td>12</td>\n",
              "      <td>2018</td>\n",
              "      <td>lange ct facility</td>\n",
              "      <td>gas</td>\n",
              "      <td>mcf</td>\n",
              "      <td>104554.0</td>\n",
              "      <td>1.060</td>\n",
              "      <td>4.77</td>\n",
              "      <td>4.77</td>\n",
              "      <td>8.99</td>\n",
              "    </tr>\n",
              "    <tr>\n",
              "      <th>29521</th>\n",
              "      <td>f1_fuel_2018_12_12_1_13</td>\n",
              "      <td>12</td>\n",
              "      <td>2018</td>\n",
              "      <td>wygen 3 bhp 52%</td>\n",
              "      <td>coal</td>\n",
              "      <td>ton</td>\n",
              "      <td>315945.0</td>\n",
              "      <td>16.108</td>\n",
              "      <td>3.06</td>\n",
              "      <td>14.76</td>\n",
              "      <td>1.11</td>\n",
              "    </tr>\n",
              "    <tr>\n",
              "      <th>29522</th>\n",
              "      <td>f1_fuel_2018_12_12_1_14</td>\n",
              "      <td>12</td>\n",
              "      <td>2018</td>\n",
              "      <td>wygen 3 bhp 52%</td>\n",
              "      <td>gas</td>\n",
              "      <td>mcf</td>\n",
              "      <td>17853.0</td>\n",
              "      <td>1.059</td>\n",
              "      <td>0.00</td>\n",
              "      <td>0.00</td>\n",
              "      <td>11.68</td>\n",
              "    </tr>\n",
              "  </tbody>\n",
              "</table>\n",
              "</div>"
            ],
            "text/plain": [
              "                     record_id  ...  fuel_cost_per_mmbtu\n",
              "29518  f1_fuel_2018_12_12_0_13  ...                 9.03\n",
              "29519   f1_fuel_2018_12_12_1_1  ...                 6.95\n",
              "29520  f1_fuel_2018_12_12_1_10  ...                 8.99\n",
              "29521  f1_fuel_2018_12_12_1_13  ...                 1.11\n",
              "29522  f1_fuel_2018_12_12_1_14  ...                11.68\n",
              "\n",
              "[5 rows x 11 columns]"
            ]
          },
          "metadata": {
            "tags": []
          },
          "execution_count": 19
        }
      ]
    },
    {
      "cell_type": "code",
      "metadata": {
        "id": "6GBqfeIg227t",
        "colab_type": "code",
        "colab": {
          "base_uri": "https://localhost:8080/",
          "height": 444
        },
        "outputId": "622af8a2-8ba7-4fe4-82a7-2ed3fe903727"
      },
      "source": [
        "# the first 100 records in the fuel data set\n",
        "eData.iloc[:100]"
      ],
      "execution_count": null,
      "outputs": [
        {
          "output_type": "execute_result",
          "data": {
            "text/html": [
              "<div>\n",
              "<style scoped>\n",
              "    .dataframe tbody tr th:only-of-type {\n",
              "        vertical-align: middle;\n",
              "    }\n",
              "\n",
              "    .dataframe tbody tr th {\n",
              "        vertical-align: top;\n",
              "    }\n",
              "\n",
              "    .dataframe thead th {\n",
              "        text-align: right;\n",
              "    }\n",
              "</style>\n",
              "<table border=\"1\" class=\"dataframe\">\n",
              "  <thead>\n",
              "    <tr style=\"text-align: right;\">\n",
              "      <th></th>\n",
              "      <th>record_id</th>\n",
              "      <th>utility_id_ferc1</th>\n",
              "      <th>report_year</th>\n",
              "      <th>plant_name_ferc1</th>\n",
              "      <th>fuel_type_code_pudl</th>\n",
              "      <th>fuel_unit</th>\n",
              "      <th>fuel_qty_burned</th>\n",
              "      <th>fuel_mmbtu_per_unit</th>\n",
              "      <th>fuel_cost_per_unit_burned</th>\n",
              "      <th>fuel_cost_per_unit_delivered</th>\n",
              "      <th>fuel_cost_per_mmbtu</th>\n",
              "    </tr>\n",
              "  </thead>\n",
              "  <tbody>\n",
              "    <tr>\n",
              "      <th>0</th>\n",
              "      <td>f1_fuel_1994_12_1_0_7</td>\n",
              "      <td>1</td>\n",
              "      <td>1994</td>\n",
              "      <td>rockport</td>\n",
              "      <td>coal</td>\n",
              "      <td>ton</td>\n",
              "      <td>5377489.0</td>\n",
              "      <td>16.590</td>\n",
              "      <td>18.59</td>\n",
              "      <td>18.53</td>\n",
              "      <td>1.121</td>\n",
              "    </tr>\n",
              "    <tr>\n",
              "      <th>1</th>\n",
              "      <td>f1_fuel_1994_12_1_0_10</td>\n",
              "      <td>1</td>\n",
              "      <td>1994</td>\n",
              "      <td>rockport total plant</td>\n",
              "      <td>coal</td>\n",
              "      <td>ton</td>\n",
              "      <td>10486945.0</td>\n",
              "      <td>16.592</td>\n",
              "      <td>18.58</td>\n",
              "      <td>18.53</td>\n",
              "      <td>1.120</td>\n",
              "    </tr>\n",
              "    <tr>\n",
              "      <th>2</th>\n",
              "      <td>f1_fuel_1994_12_2_0_1</td>\n",
              "      <td>2</td>\n",
              "      <td>1994</td>\n",
              "      <td>gorgas</td>\n",
              "      <td>coal</td>\n",
              "      <td>ton</td>\n",
              "      <td>2978683.0</td>\n",
              "      <td>24.130</td>\n",
              "      <td>39.72</td>\n",
              "      <td>38.12</td>\n",
              "      <td>1.650</td>\n",
              "    </tr>\n",
              "    <tr>\n",
              "      <th>3</th>\n",
              "      <td>f1_fuel_1994_12_2_0_7</td>\n",
              "      <td>2</td>\n",
              "      <td>1994</td>\n",
              "      <td>barry</td>\n",
              "      <td>coal</td>\n",
              "      <td>ton</td>\n",
              "      <td>3739484.0</td>\n",
              "      <td>23.950</td>\n",
              "      <td>47.21</td>\n",
              "      <td>45.99</td>\n",
              "      <td>1.970</td>\n",
              "    </tr>\n",
              "    <tr>\n",
              "      <th>4</th>\n",
              "      <td>f1_fuel_1994_12_2_0_10</td>\n",
              "      <td>2</td>\n",
              "      <td>1994</td>\n",
              "      <td>chickasaw</td>\n",
              "      <td>gas</td>\n",
              "      <td>mcf</td>\n",
              "      <td>40533.0</td>\n",
              "      <td>1.000</td>\n",
              "      <td>2.77</td>\n",
              "      <td>2.77</td>\n",
              "      <td>2.570</td>\n",
              "    </tr>\n",
              "    <tr>\n",
              "      <th>...</th>\n",
              "      <td>...</td>\n",
              "      <td>...</td>\n",
              "      <td>...</td>\n",
              "      <td>...</td>\n",
              "      <td>...</td>\n",
              "      <td>...</td>\n",
              "      <td>...</td>\n",
              "      <td>...</td>\n",
              "      <td>...</td>\n",
              "      <td>...</td>\n",
              "      <td>...</td>\n",
              "    </tr>\n",
              "    <tr>\n",
              "      <th>95</th>\n",
              "      <td>f1_fuel_1994_12_17_0_8</td>\n",
              "      <td>17</td>\n",
              "      <td>1994</td>\n",
              "      <td>weatherspn</td>\n",
              "      <td>coal</td>\n",
              "      <td>ton</td>\n",
              "      <td>96572.0</td>\n",
              "      <td>24.962</td>\n",
              "      <td>42.99</td>\n",
              "      <td>42.36</td>\n",
              "      <td>1.722</td>\n",
              "    </tr>\n",
              "    <tr>\n",
              "      <th>96</th>\n",
              "      <td>f1_fuel_1994_12_17_0_10</td>\n",
              "      <td>17</td>\n",
              "      <td>1994</td>\n",
              "      <td>w.h. weatherspoon</td>\n",
              "      <td>gas</td>\n",
              "      <td>mcf</td>\n",
              "      <td>89965.0</td>\n",
              "      <td>1.034</td>\n",
              "      <td>2.94</td>\n",
              "      <td>0.00</td>\n",
              "      <td>2.843</td>\n",
              "    </tr>\n",
              "    <tr>\n",
              "      <th>97</th>\n",
              "      <td>f1_fuel_1994_12_17_0_14</td>\n",
              "      <td>17</td>\n",
              "      <td>1994</td>\n",
              "      <td>h. f. lee</td>\n",
              "      <td>coal</td>\n",
              "      <td>ton</td>\n",
              "      <td>354165.0</td>\n",
              "      <td>25.384</td>\n",
              "      <td>49.71</td>\n",
              "      <td>50.41</td>\n",
              "      <td>1.959</td>\n",
              "    </tr>\n",
              "    <tr>\n",
              "      <th>98</th>\n",
              "      <td>f1_fuel_1994_12_17_1_6</td>\n",
              "      <td>17</td>\n",
              "      <td>1994</td>\n",
              "      <td>l. v. sutton</td>\n",
              "      <td>coal</td>\n",
              "      <td>ton</td>\n",
              "      <td>490256.0</td>\n",
              "      <td>25.070</td>\n",
              "      <td>41.34</td>\n",
              "      <td>40.73</td>\n",
              "      <td>1.649</td>\n",
              "    </tr>\n",
              "    <tr>\n",
              "      <th>99</th>\n",
              "      <td>f1_fuel_1994_12_17_1_11</td>\n",
              "      <td>17</td>\n",
              "      <td>1994</td>\n",
              "      <td>h. b. robinson</td>\n",
              "      <td>coal</td>\n",
              "      <td>ton</td>\n",
              "      <td>224820.0</td>\n",
              "      <td>25.094</td>\n",
              "      <td>50.37</td>\n",
              "      <td>45.26</td>\n",
              "      <td>2.007</td>\n",
              "    </tr>\n",
              "  </tbody>\n",
              "</table>\n",
              "<p>100 rows × 11 columns</p>\n",
              "</div>"
            ],
            "text/plain": [
              "                  record_id  ...  fuel_cost_per_mmbtu\n",
              "0     f1_fuel_1994_12_1_0_7  ...                1.121\n",
              "1    f1_fuel_1994_12_1_0_10  ...                1.120\n",
              "2     f1_fuel_1994_12_2_0_1  ...                1.650\n",
              "3     f1_fuel_1994_12_2_0_7  ...                1.970\n",
              "4    f1_fuel_1994_12_2_0_10  ...                2.570\n",
              "..                      ...  ...                  ...\n",
              "95   f1_fuel_1994_12_17_0_8  ...                1.722\n",
              "96  f1_fuel_1994_12_17_0_10  ...                2.843\n",
              "97  f1_fuel_1994_12_17_0_14  ...                1.959\n",
              "98   f1_fuel_1994_12_17_1_6  ...                1.649\n",
              "99  f1_fuel_1994_12_17_1_11  ...                2.007\n",
              "\n",
              "[100 rows x 11 columns]"
            ]
          },
          "metadata": {
            "tags": []
          },
          "execution_count": 19
        }
      ]
    },
    {
      "cell_type": "code",
      "metadata": {
        "id": "Qz-7_9fh7-1J",
        "colab_type": "code",
        "colab": {
          "base_uri": "https://localhost:8080/",
          "height": 244
        },
        "outputId": "f21478f9-2691-46a6-e284-a44ff8c95803"
      },
      "source": [
        "# Another format to retrieve the last five records in the dataset\n",
        "eData.iloc[-5:]"
      ],
      "execution_count": null,
      "outputs": [
        {
          "output_type": "execute_result",
          "data": {
            "text/html": [
              "<div>\n",
              "<style scoped>\n",
              "    .dataframe tbody tr th:only-of-type {\n",
              "        vertical-align: middle;\n",
              "    }\n",
              "\n",
              "    .dataframe tbody tr th {\n",
              "        vertical-align: top;\n",
              "    }\n",
              "\n",
              "    .dataframe thead th {\n",
              "        text-align: right;\n",
              "    }\n",
              "</style>\n",
              "<table border=\"1\" class=\"dataframe\">\n",
              "  <thead>\n",
              "    <tr style=\"text-align: right;\">\n",
              "      <th></th>\n",
              "      <th>record_id</th>\n",
              "      <th>utility_id_ferc1</th>\n",
              "      <th>report_year</th>\n",
              "      <th>plant_name_ferc1</th>\n",
              "      <th>fuel_type_code_pudl</th>\n",
              "      <th>fuel_unit</th>\n",
              "      <th>fuel_qty_burned</th>\n",
              "      <th>fuel_mmbtu_per_unit</th>\n",
              "      <th>fuel_cost_per_unit_burned</th>\n",
              "      <th>fuel_cost_per_unit_delivered</th>\n",
              "      <th>fuel_cost_per_mmbtu</th>\n",
              "    </tr>\n",
              "  </thead>\n",
              "  <tbody>\n",
              "    <tr>\n",
              "      <th>29518</th>\n",
              "      <td>f1_fuel_2018_12_12_0_13</td>\n",
              "      <td>12</td>\n",
              "      <td>2018</td>\n",
              "      <td>neil simpson ct #1</td>\n",
              "      <td>gas</td>\n",
              "      <td>mcf</td>\n",
              "      <td>18799.0</td>\n",
              "      <td>1.059</td>\n",
              "      <td>4.78</td>\n",
              "      <td>4.78</td>\n",
              "      <td>9.03</td>\n",
              "    </tr>\n",
              "    <tr>\n",
              "      <th>29519</th>\n",
              "      <td>f1_fuel_2018_12_12_1_1</td>\n",
              "      <td>12</td>\n",
              "      <td>2018</td>\n",
              "      <td>cheyenne prairie 58%</td>\n",
              "      <td>gas</td>\n",
              "      <td>mcf</td>\n",
              "      <td>806730.0</td>\n",
              "      <td>1.050</td>\n",
              "      <td>3.65</td>\n",
              "      <td>3.65</td>\n",
              "      <td>6.95</td>\n",
              "    </tr>\n",
              "    <tr>\n",
              "      <th>29520</th>\n",
              "      <td>f1_fuel_2018_12_12_1_10</td>\n",
              "      <td>12</td>\n",
              "      <td>2018</td>\n",
              "      <td>lange ct facility</td>\n",
              "      <td>gas</td>\n",
              "      <td>mcf</td>\n",
              "      <td>104554.0</td>\n",
              "      <td>1.060</td>\n",
              "      <td>4.77</td>\n",
              "      <td>4.77</td>\n",
              "      <td>8.99</td>\n",
              "    </tr>\n",
              "    <tr>\n",
              "      <th>29521</th>\n",
              "      <td>f1_fuel_2018_12_12_1_13</td>\n",
              "      <td>12</td>\n",
              "      <td>2018</td>\n",
              "      <td>wygen 3 bhp 52%</td>\n",
              "      <td>coal</td>\n",
              "      <td>ton</td>\n",
              "      <td>315945.0</td>\n",
              "      <td>16.108</td>\n",
              "      <td>3.06</td>\n",
              "      <td>14.76</td>\n",
              "      <td>1.11</td>\n",
              "    </tr>\n",
              "    <tr>\n",
              "      <th>29522</th>\n",
              "      <td>f1_fuel_2018_12_12_1_14</td>\n",
              "      <td>12</td>\n",
              "      <td>2018</td>\n",
              "      <td>wygen 3 bhp 52%</td>\n",
              "      <td>gas</td>\n",
              "      <td>mcf</td>\n",
              "      <td>17853.0</td>\n",
              "      <td>1.059</td>\n",
              "      <td>0.00</td>\n",
              "      <td>0.00</td>\n",
              "      <td>11.68</td>\n",
              "    </tr>\n",
              "  </tbody>\n",
              "</table>\n",
              "</div>"
            ],
            "text/plain": [
              "                     record_id  ...  fuel_cost_per_mmbtu\n",
              "29518  f1_fuel_2018_12_12_0_13  ...                 9.03\n",
              "29519   f1_fuel_2018_12_12_1_1  ...                 6.95\n",
              "29520  f1_fuel_2018_12_12_1_10  ...                 8.99\n",
              "29521  f1_fuel_2018_12_12_1_13  ...                 1.11\n",
              "29522  f1_fuel_2018_12_12_1_14  ...                11.68\n",
              "\n",
              "[5 rows x 11 columns]"
            ]
          },
          "metadata": {
            "tags": []
          },
          "execution_count": 7
        }
      ]
    },
    {
      "cell_type": "markdown",
      "metadata": {
        "id": "zngIfSiN6n43",
        "colab_type": "text"
      },
      "source": [
        "### **A summary of Plants in the dataset and the total quantity of fuel burned per plant**"
      ]
    },
    {
      "cell_type": "code",
      "metadata": {
        "id": "ItgePlEIeWCM",
        "colab_type": "code",
        "colab": {
          "base_uri": "https://localhost:8080/",
          "height": 455
        },
        "outputId": "32e04ef3-ecb0-4382-d400-bd5a3c34e2cc"
      },
      "source": [
        "\n",
        "# shows minimum, maximum and total fuel per Plant and the number of times each occurs\n",
        "eData.groupby(['plant_name_ferc1']).fuel_qty_burned.agg([len, min, max, sum])"
      ],
      "execution_count": null,
      "outputs": [
        {
          "output_type": "execute_result",
          "data": {
            "text/html": [
              "<div>\n",
              "<style scoped>\n",
              "    .dataframe tbody tr th:only-of-type {\n",
              "        vertical-align: middle;\n",
              "    }\n",
              "\n",
              "    .dataframe tbody tr th {\n",
              "        vertical-align: top;\n",
              "    }\n",
              "\n",
              "    .dataframe thead th {\n",
              "        text-align: right;\n",
              "    }\n",
              "</style>\n",
              "<table border=\"1\" class=\"dataframe\">\n",
              "  <thead>\n",
              "    <tr style=\"text-align: right;\">\n",
              "      <th></th>\n",
              "      <th>len</th>\n",
              "      <th>min</th>\n",
              "      <th>max</th>\n",
              "      <th>sum</th>\n",
              "    </tr>\n",
              "    <tr>\n",
              "      <th>plant_name_ferc1</th>\n",
              "      <th></th>\n",
              "      <th></th>\n",
              "      <th></th>\n",
              "      <th></th>\n",
              "    </tr>\n",
              "  </thead>\n",
              "  <tbody>\n",
              "    <tr>\n",
              "      <th>(1)sta98</th>\n",
              "      <td>1.0</td>\n",
              "      <td>33044.0</td>\n",
              "      <td>33044.0</td>\n",
              "      <td>33044.0</td>\n",
              "    </tr>\n",
              "    <tr>\n",
              "      <th>(2) scriba sta. 99</th>\n",
              "      <td>1.0</td>\n",
              "      <td>107129.0</td>\n",
              "      <td>107129.0</td>\n",
              "      <td>107129.0</td>\n",
              "    </tr>\n",
              "    <tr>\n",
              "      <th>(n) contra costa</th>\n",
              "      <td>1.0</td>\n",
              "      <td>11338219.0</td>\n",
              "      <td>11338219.0</td>\n",
              "      <td>11338219.0</td>\n",
              "    </tr>\n",
              "    <tr>\n",
              "      <th>(n) pittsburg</th>\n",
              "      <td>1.0</td>\n",
              "      <td>34851184.0</td>\n",
              "      <td>34851184.0</td>\n",
              "      <td>34851184.0</td>\n",
              "    </tr>\n",
              "    <tr>\n",
              "      <th>(n)(t)moss landing</th>\n",
              "      <td>1.0</td>\n",
              "      <td>87863451.0</td>\n",
              "      <td>87863451.0</td>\n",
              "      <td>87863451.0</td>\n",
              "    </tr>\n",
              "    <tr>\n",
              "      <th>...</th>\n",
              "      <td>...</td>\n",
              "      <td>...</td>\n",
              "      <td>...</td>\n",
              "      <td>...</td>\n",
              "    </tr>\n",
              "    <tr>\n",
              "      <th>zimmer- aepgr share</th>\n",
              "      <td>2.0</td>\n",
              "      <td>10422.0</td>\n",
              "      <td>716585.0</td>\n",
              "      <td>727007.0</td>\n",
              "    </tr>\n",
              "    <tr>\n",
              "      <th>zion</th>\n",
              "      <td>3.0</td>\n",
              "      <td>920189.0</td>\n",
              "      <td>1218311.0</td>\n",
              "      <td>3242901.0</td>\n",
              "    </tr>\n",
              "    <tr>\n",
              "      <th>zorn</th>\n",
              "      <td>12.0</td>\n",
              "      <td>432.0</td>\n",
              "      <td>57060.0</td>\n",
              "      <td>232678.0</td>\n",
              "    </tr>\n",
              "    <tr>\n",
              "      <th>zorn ct</th>\n",
              "      <td>10.0</td>\n",
              "      <td>3.0</td>\n",
              "      <td>21063.0</td>\n",
              "      <td>53674.0</td>\n",
              "    </tr>\n",
              "    <tr>\n",
              "      <th>zuni</th>\n",
              "      <td>17.0</td>\n",
              "      <td>582.0</td>\n",
              "      <td>1388205.0</td>\n",
              "      <td>5101375.0</td>\n",
              "    </tr>\n",
              "  </tbody>\n",
              "</table>\n",
              "<p>2315 rows × 4 columns</p>\n",
              "</div>"
            ],
            "text/plain": [
              "                      len         min         max         sum\n",
              "plant_name_ferc1                                             \n",
              "(1)sta98              1.0     33044.0     33044.0     33044.0\n",
              "(2) scriba sta. 99    1.0    107129.0    107129.0    107129.0\n",
              "(n) contra costa      1.0  11338219.0  11338219.0  11338219.0\n",
              "(n) pittsburg         1.0  34851184.0  34851184.0  34851184.0\n",
              "(n)(t)moss landing    1.0  87863451.0  87863451.0  87863451.0\n",
              "...                   ...         ...         ...         ...\n",
              "zimmer- aepgr share   2.0     10422.0    716585.0    727007.0\n",
              "zion                  3.0    920189.0   1218311.0   3242901.0\n",
              "zorn                 12.0       432.0     57060.0    232678.0\n",
              "zorn ct              10.0         3.0     21063.0     53674.0\n",
              "zuni                 17.0       582.0   1388205.0   5101375.0\n",
              "\n",
              "[2315 rows x 4 columns]"
            ]
          },
          "metadata": {
            "tags": []
          },
          "execution_count": 51
        }
      ]
    },
    {
      "cell_type": "code",
      "metadata": {
        "id": "30BJ-5AZ8e3x",
        "colab_type": "code",
        "colab": {
          "base_uri": "https://localhost:8080/",
          "height": 444
        },
        "outputId": "651c6e47-8a47-4a2f-a97a-cc9cc4db1517"
      },
      "source": [
        "# check cost fuel per unit delivered above 50.00 in the year 2018\n",
        "eData.loc[(eData.report_year == 2018) & (eData.fuel_cost_per_unit_delivered > 50.0)]"
      ],
      "execution_count": 144,
      "outputs": [
        {
          "output_type": "execute_result",
          "data": {
            "text/html": [
              "<div>\n",
              "<style scoped>\n",
              "    .dataframe tbody tr th:only-of-type {\n",
              "        vertical-align: middle;\n",
              "    }\n",
              "\n",
              "    .dataframe tbody tr th {\n",
              "        vertical-align: top;\n",
              "    }\n",
              "\n",
              "    .dataframe thead th {\n",
              "        text-align: right;\n",
              "    }\n",
              "</style>\n",
              "<table border=\"1\" class=\"dataframe\">\n",
              "  <thead>\n",
              "    <tr style=\"text-align: right;\">\n",
              "      <th></th>\n",
              "      <th>record_id</th>\n",
              "      <th>utility_id_ferc1</th>\n",
              "      <th>report_year</th>\n",
              "      <th>plant_name_ferc1</th>\n",
              "      <th>fuel_type_code_pudl</th>\n",
              "      <th>fuel_unit</th>\n",
              "      <th>fuel_qty_burned</th>\n",
              "      <th>fuel_mmbtu_per_unit</th>\n",
              "      <th>fuel_cost_per_unit_burned</th>\n",
              "      <th>fuel_cost_per_unit_delivered</th>\n",
              "      <th>fuel_cost_per_mmbtu</th>\n",
              "    </tr>\n",
              "  </thead>\n",
              "  <tbody>\n",
              "    <tr>\n",
              "      <th>28572</th>\n",
              "      <td>f1_fuel_2018_12_122_0_2</td>\n",
              "      <td>122</td>\n",
              "      <td>2018</td>\n",
              "      <td>big stone</td>\n",
              "      <td>oil</td>\n",
              "      <td>bbl</td>\n",
              "      <td>2344.0</td>\n",
              "      <td>5.880000</td>\n",
              "      <td>63.123</td>\n",
              "      <td>63.123</td>\n",
              "      <td>10.735</td>\n",
              "    </tr>\n",
              "    <tr>\n",
              "      <th>28574</th>\n",
              "      <td>f1_fuel_2018_12_122_0_5</td>\n",
              "      <td>122</td>\n",
              "      <td>2018</td>\n",
              "      <td>coyote</td>\n",
              "      <td>oil</td>\n",
              "      <td>bbl</td>\n",
              "      <td>2094.0</td>\n",
              "      <td>5.880000</td>\n",
              "      <td>87.516</td>\n",
              "      <td>87.516</td>\n",
              "      <td>14.884</td>\n",
              "    </tr>\n",
              "    <tr>\n",
              "      <th>28576</th>\n",
              "      <td>f1_fuel_2018_12_122_0_8</td>\n",
              "      <td>122</td>\n",
              "      <td>2018</td>\n",
              "      <td>neal #4</td>\n",
              "      <td>oil</td>\n",
              "      <td>bbl</td>\n",
              "      <td>3251.0</td>\n",
              "      <td>5.838000</td>\n",
              "      <td>89.799</td>\n",
              "      <td>89.799</td>\n",
              "      <td>15.382</td>\n",
              "    </tr>\n",
              "    <tr>\n",
              "      <th>28578</th>\n",
              "      <td>f1_fuel_2018_12_122_0_13</td>\n",
              "      <td>122</td>\n",
              "      <td>2018</td>\n",
              "      <td>yankton</td>\n",
              "      <td>oil</td>\n",
              "      <td>bbl</td>\n",
              "      <td>131.0</td>\n",
              "      <td>5.796000</td>\n",
              "      <td>126.857</td>\n",
              "      <td>126.857</td>\n",
              "      <td>21.887</td>\n",
              "    </tr>\n",
              "    <tr>\n",
              "      <th>28579</th>\n",
              "      <td>f1_fuel_2018_12_122_1_1</td>\n",
              "      <td>122</td>\n",
              "      <td>2018</td>\n",
              "      <td>aberdeen #1</td>\n",
              "      <td>oil</td>\n",
              "      <td>bbl</td>\n",
              "      <td>422.0</td>\n",
              "      <td>5.796000</td>\n",
              "      <td>135.432</td>\n",
              "      <td>135.432</td>\n",
              "      <td>23.366</td>\n",
              "    </tr>\n",
              "    <tr>\n",
              "      <th>...</th>\n",
              "      <td>...</td>\n",
              "      <td>...</td>\n",
              "      <td>...</td>\n",
              "      <td>...</td>\n",
              "      <td>...</td>\n",
              "      <td>...</td>\n",
              "      <td>...</td>\n",
              "      <td>...</td>\n",
              "      <td>...</td>\n",
              "      <td>...</td>\n",
              "      <td>...</td>\n",
              "    </tr>\n",
              "    <tr>\n",
              "      <th>29495</th>\n",
              "      <td>f1_fuel_2018_12_191_0_6</td>\n",
              "      <td>191</td>\n",
              "      <td>2018</td>\n",
              "      <td>gordon evans ctf</td>\n",
              "      <td>oil</td>\n",
              "      <td>bbl</td>\n",
              "      <td>10030.0</td>\n",
              "      <td>5.846053</td>\n",
              "      <td>94.777</td>\n",
              "      <td>94.900</td>\n",
              "      <td>16.212</td>\n",
              "    </tr>\n",
              "    <tr>\n",
              "      <th>29502</th>\n",
              "      <td>f1_fuel_2018_12_191_1_9</td>\n",
              "      <td>191</td>\n",
              "      <td>2018</td>\n",
              "      <td>jeffrey (jec)</td>\n",
              "      <td>oil</td>\n",
              "      <td>bbl</td>\n",
              "      <td>19764.0</td>\n",
              "      <td>5.835849</td>\n",
              "      <td>88.553</td>\n",
              "      <td>101.010</td>\n",
              "      <td>15.174</td>\n",
              "    </tr>\n",
              "    <tr>\n",
              "      <th>29505</th>\n",
              "      <td>f1_fuel_2018_12_432_0_2</td>\n",
              "      <td>432</td>\n",
              "      <td>2018</td>\n",
              "      <td>pueblo diesels</td>\n",
              "      <td>oil</td>\n",
              "      <td>bbl</td>\n",
              "      <td>81.0</td>\n",
              "      <td>5.694696</td>\n",
              "      <td>101.330</td>\n",
              "      <td>101.330</td>\n",
              "      <td>17.790</td>\n",
              "    </tr>\n",
              "    <tr>\n",
              "      <th>29506</th>\n",
              "      <td>f1_fuel_2018_12_432_0_5</td>\n",
              "      <td>432</td>\n",
              "      <td>2018</td>\n",
              "      <td>airport - pueblo</td>\n",
              "      <td>oil</td>\n",
              "      <td>bbl</td>\n",
              "      <td>133.0</td>\n",
              "      <td>5.756940</td>\n",
              "      <td>95.530</td>\n",
              "      <td>95.530</td>\n",
              "      <td>16.590</td>\n",
              "    </tr>\n",
              "    <tr>\n",
              "      <th>29507</th>\n",
              "      <td>f1_fuel_2018_12_432_0_8</td>\n",
              "      <td>432</td>\n",
              "      <td>2018</td>\n",
              "      <td>rocky ford diesels</td>\n",
              "      <td>oil</td>\n",
              "      <td>bbl</td>\n",
              "      <td>320.0</td>\n",
              "      <td>5.719602</td>\n",
              "      <td>98.180</td>\n",
              "      <td>98.150</td>\n",
              "      <td>17.160</td>\n",
              "    </tr>\n",
              "  </tbody>\n",
              "</table>\n",
              "<p>280 rows × 11 columns</p>\n",
              "</div>"
            ],
            "text/plain": [
              "                      record_id  ...  fuel_cost_per_mmbtu\n",
              "28572   f1_fuel_2018_12_122_0_2  ...               10.735\n",
              "28574   f1_fuel_2018_12_122_0_5  ...               14.884\n",
              "28576   f1_fuel_2018_12_122_0_8  ...               15.382\n",
              "28578  f1_fuel_2018_12_122_0_13  ...               21.887\n",
              "28579   f1_fuel_2018_12_122_1_1  ...               23.366\n",
              "...                         ...  ...                  ...\n",
              "29495   f1_fuel_2018_12_191_0_6  ...               16.212\n",
              "29502   f1_fuel_2018_12_191_1_9  ...               15.174\n",
              "29505   f1_fuel_2018_12_432_0_2  ...               17.790\n",
              "29506   f1_fuel_2018_12_432_0_5  ...               16.590\n",
              "29507   f1_fuel_2018_12_432_0_8  ...               17.160\n",
              "\n",
              "[280 rows x 11 columns]"
            ]
          },
          "metadata": {
            "tags": []
          },
          "execution_count": 144
        }
      ]
    },
    {
      "cell_type": "code",
      "metadata": {
        "id": "Z8coi9N0u5aR",
        "colab_type": "code",
        "colab": {
          "base_uri": "https://localhost:8080/",
          "height": 52
        },
        "outputId": "78f0cf55-dbfe-4f7c-a29b-b5ed4acc47dc"
      },
      "source": [
        "print(\"Total Fuel Cost Per Unit Delivered:\")\n",
        "eData.fuel_cost_per_unit_delivered.sum()"
      ],
      "execution_count": null,
      "outputs": [
        {
          "output_type": "stream",
          "text": [
            "Total Fuel Cost Per Unit Delivered:\n"
          ],
          "name": "stdout"
        },
        {
          "output_type": "execute_result",
          "data": {
            "text/plain": [
              "27089432.369"
            ]
          },
          "metadata": {
            "tags": []
          },
          "execution_count": 35
        }
      ]
    },
    {
      "cell_type": "code",
      "metadata": {
        "id": "-p3Dwf8QvgGQ",
        "colab_type": "code",
        "colab": {
          "base_uri": "https://localhost:8080/",
          "height": 52
        },
        "outputId": "46791bab-756a-474d-b55a-2d312eb379a6"
      },
      "source": [
        "print(\"Total Fuel Cost Per Unit Burned:\")\n",
        "eData.fuel_cost_per_unit_burned.sum()"
      ],
      "execution_count": null,
      "outputs": [
        {
          "output_type": "stream",
          "text": [
            "Total Fuel Cost Per Unit Burned:\n"
          ],
          "name": "stdout"
        },
        {
          "output_type": "execute_result",
          "data": {
            "text/plain": [
              "6159945.342999999"
            ]
          },
          "metadata": {
            "tags": []
          },
          "execution_count": 34
        }
      ]
    },
    {
      "cell_type": "code",
      "metadata": {
        "id": "vtCc0zyZxM-3",
        "colab_type": "code",
        "colab": {
          "base_uri": "https://localhost:8080/",
          "height": 52
        },
        "outputId": "6caca99b-4c84-4390-fb0a-24c3260c34ca"
      },
      "source": [
        "print(\"Total Fuel Cost Per mmbtu:\")\n",
        "eData.fuel_cost_per_mmbtu.sum()\n"
      ],
      "execution_count": null,
      "outputs": [
        {
          "output_type": "stream",
          "text": [
            "Total Fuel Cost Per mmbtu:\n"
          ],
          "name": "stdout"
        },
        {
          "output_type": "execute_result",
          "data": {
            "text/plain": [
              "569922.44553"
            ]
          },
          "metadata": {
            "tags": []
          },
          "execution_count": 36
        }
      ]
    },
    {
      "cell_type": "markdown",
      "metadata": {
        "id": "xhsCrw3zXAK9",
        "colab_type": "text"
      },
      "source": [
        "### **A summary of features(columns) in the Fuel Utility Dataset and the corresponding number of null values in each feature:**\n"
      ]
    },
    {
      "cell_type": "code",
      "metadata": {
        "id": "kiijFVmoGUZY",
        "colab_type": "code",
        "colab": {
          "base_uri": "https://localhost:8080/",
          "height": 225
        },
        "outputId": "39ae4459-8fdd-4b01-c724-c50ef66caa53"
      },
      "source": [
        "# check for null columns\n",
        "eData.isnull().sum()"
      ],
      "execution_count": null,
      "outputs": [
        {
          "output_type": "execute_result",
          "data": {
            "text/plain": [
              "record_id                         0\n",
              "utility_id_ferc1                  0\n",
              "report_year                       0\n",
              "plant_name_ferc1                  0\n",
              "fuel_type_code_pudl               0\n",
              "fuel_unit                       180\n",
              "fuel_qty_burned                   0\n",
              "fuel_mmbtu_per_unit               0\n",
              "fuel_cost_per_unit_burned         0\n",
              "fuel_cost_per_unit_delivered      0\n",
              "fuel_cost_per_mmbtu               0\n",
              "dtype: int64"
            ]
          },
          "metadata": {
            "tags": []
          },
          "execution_count": 2
        }
      ]
    },
    {
      "cell_type": "markdown",
      "metadata": {
        "id": "kBHgT23SFzZP",
        "colab_type": "text"
      },
      "source": [
        "##### **Observation: fuel_unit column has a total of 180 missing data. Every other column has data value.**"
      ]
    },
    {
      "cell_type": "code",
      "metadata": {
        "id": "2fAoqjcG-FKC",
        "colab_type": "code",
        "colab": {
          "base_uri": "https://localhost:8080/",
          "height": 34
        },
        "outputId": "db1873ba-21fb-464c-af19-a90bc24c6eed"
      },
      "source": [
        "# Check if duplicate record exist\n",
        "eData.duplicated().any()"
      ],
      "execution_count": null,
      "outputs": [
        {
          "output_type": "execute_result",
          "data": {
            "text/plain": [
              "False"
            ]
          },
          "metadata": {
            "tags": []
          },
          "execution_count": 6
        }
      ]
    },
    {
      "cell_type": "code",
      "metadata": {
        "id": "UHq_SfQ4DLaD",
        "colab_type": "code",
        "colab": {
          "base_uri": "https://localhost:8080/",
          "height": 444
        },
        "outputId": "74d52a58-3123-4fb6-bf55-f57f3daf5cf3"
      },
      "source": [
        "# Prints Oil fuel type records\n",
        "eData.loc[(eData.fuel_type_code_pudl == 'oil')]"
      ],
      "execution_count": 108,
      "outputs": [
        {
          "output_type": "execute_result",
          "data": {
            "text/html": [
              "<div>\n",
              "<style scoped>\n",
              "    .dataframe tbody tr th:only-of-type {\n",
              "        vertical-align: middle;\n",
              "    }\n",
              "\n",
              "    .dataframe tbody tr th {\n",
              "        vertical-align: top;\n",
              "    }\n",
              "\n",
              "    .dataframe thead th {\n",
              "        text-align: right;\n",
              "    }\n",
              "</style>\n",
              "<table border=\"1\" class=\"dataframe\">\n",
              "  <thead>\n",
              "    <tr style=\"text-align: right;\">\n",
              "      <th></th>\n",
              "      <th>record_id</th>\n",
              "      <th>utility_id_ferc1</th>\n",
              "      <th>report_year</th>\n",
              "      <th>plant_name_ferc1</th>\n",
              "      <th>fuel_type_code_pudl</th>\n",
              "      <th>fuel_unit</th>\n",
              "      <th>fuel_qty_burned</th>\n",
              "      <th>fuel_mmbtu_per_unit</th>\n",
              "      <th>fuel_cost_per_unit_burned</th>\n",
              "      <th>fuel_cost_per_unit_delivered</th>\n",
              "      <th>fuel_cost_per_mmbtu</th>\n",
              "    </tr>\n",
              "  </thead>\n",
              "  <tbody>\n",
              "    <tr>\n",
              "      <th>14</th>\n",
              "      <td>f1_fuel_1994_12_6_0_2</td>\n",
              "      <td>6</td>\n",
              "      <td>1994</td>\n",
              "      <td>clinch river</td>\n",
              "      <td>oil</td>\n",
              "      <td>bbl</td>\n",
              "      <td>6510.0</td>\n",
              "      <td>5.875338</td>\n",
              "      <td>32.130</td>\n",
              "      <td>23.444</td>\n",
              "      <td>5.469</td>\n",
              "    </tr>\n",
              "    <tr>\n",
              "      <th>19</th>\n",
              "      <td>f1_fuel_1994_12_6_0_14</td>\n",
              "      <td>6</td>\n",
              "      <td>1994</td>\n",
              "      <td>kanawha river</td>\n",
              "      <td>oil</td>\n",
              "      <td>bbl</td>\n",
              "      <td>3505.0</td>\n",
              "      <td>5.774958</td>\n",
              "      <td>33.321</td>\n",
              "      <td>26.280</td>\n",
              "      <td>5.770</td>\n",
              "    </tr>\n",
              "    <tr>\n",
              "      <th>21</th>\n",
              "      <td>f1_fuel_1994_12_6_1_8</td>\n",
              "      <td>6</td>\n",
              "      <td>1994</td>\n",
              "      <td>mountainr</td>\n",
              "      <td>oil</td>\n",
              "      <td>bbl</td>\n",
              "      <td>50013.0</td>\n",
              "      <td>5.845644</td>\n",
              "      <td>30.319</td>\n",
              "      <td>23.884</td>\n",
              "      <td>5.187</td>\n",
              "    </tr>\n",
              "    <tr>\n",
              "      <th>23</th>\n",
              "      <td>f1_fuel_1994_12_6_1_11</td>\n",
              "      <td>6</td>\n",
              "      <td>1994</td>\n",
              "      <td>philip sporn-apco</td>\n",
              "      <td>oil</td>\n",
              "      <td>bbl</td>\n",
              "      <td>13969.0</td>\n",
              "      <td>5.742870</td>\n",
              "      <td>32.184</td>\n",
              "      <td>30.508</td>\n",
              "      <td>5.604</td>\n",
              "    </tr>\n",
              "    <tr>\n",
              "      <th>25</th>\n",
              "      <td>f1_fuel_1994_12_6_1_14</td>\n",
              "      <td>6</td>\n",
              "      <td>1994</td>\n",
              "      <td>philip sporn ttl plt</td>\n",
              "      <td>oil</td>\n",
              "      <td>bbl</td>\n",
              "      <td>48750.0</td>\n",
              "      <td>5.742828</td>\n",
              "      <td>32.186</td>\n",
              "      <td>30.507</td>\n",
              "      <td>5.605</td>\n",
              "    </tr>\n",
              "    <tr>\n",
              "      <th>...</th>\n",
              "      <td>...</td>\n",
              "      <td>...</td>\n",
              "      <td>...</td>\n",
              "      <td>...</td>\n",
              "      <td>...</td>\n",
              "      <td>...</td>\n",
              "      <td>...</td>\n",
              "      <td>...</td>\n",
              "      <td>...</td>\n",
              "      <td>...</td>\n",
              "      <td>...</td>\n",
              "    </tr>\n",
              "    <tr>\n",
              "      <th>29502</th>\n",
              "      <td>f1_fuel_2018_12_191_1_9</td>\n",
              "      <td>191</td>\n",
              "      <td>2018</td>\n",
              "      <td>jeffrey (jec)</td>\n",
              "      <td>oil</td>\n",
              "      <td>bbl</td>\n",
              "      <td>19764.0</td>\n",
              "      <td>5.835849</td>\n",
              "      <td>88.553</td>\n",
              "      <td>101.010</td>\n",
              "      <td>15.174</td>\n",
              "    </tr>\n",
              "    <tr>\n",
              "      <th>29505</th>\n",
              "      <td>f1_fuel_2018_12_432_0_2</td>\n",
              "      <td>432</td>\n",
              "      <td>2018</td>\n",
              "      <td>pueblo diesels</td>\n",
              "      <td>oil</td>\n",
              "      <td>bbl</td>\n",
              "      <td>81.0</td>\n",
              "      <td>5.694696</td>\n",
              "      <td>101.330</td>\n",
              "      <td>101.330</td>\n",
              "      <td>17.790</td>\n",
              "    </tr>\n",
              "    <tr>\n",
              "      <th>29506</th>\n",
              "      <td>f1_fuel_2018_12_432_0_5</td>\n",
              "      <td>432</td>\n",
              "      <td>2018</td>\n",
              "      <td>airport - pueblo</td>\n",
              "      <td>oil</td>\n",
              "      <td>bbl</td>\n",
              "      <td>133.0</td>\n",
              "      <td>5.756940</td>\n",
              "      <td>95.530</td>\n",
              "      <td>95.530</td>\n",
              "      <td>16.590</td>\n",
              "    </tr>\n",
              "    <tr>\n",
              "      <th>29507</th>\n",
              "      <td>f1_fuel_2018_12_432_0_8</td>\n",
              "      <td>432</td>\n",
              "      <td>2018</td>\n",
              "      <td>rocky ford diesels</td>\n",
              "      <td>oil</td>\n",
              "      <td>bbl</td>\n",
              "      <td>320.0</td>\n",
              "      <td>5.719602</td>\n",
              "      <td>98.180</td>\n",
              "      <td>98.150</td>\n",
              "      <td>17.160</td>\n",
              "    </tr>\n",
              "    <tr>\n",
              "      <th>29514</th>\n",
              "      <td>f1_fuel_2018_12_12_0_4</td>\n",
              "      <td>12</td>\n",
              "      <td>2018</td>\n",
              "      <td>ben french station</td>\n",
              "      <td>oil</td>\n",
              "      <td>bbl</td>\n",
              "      <td>487.0</td>\n",
              "      <td>5.831070</td>\n",
              "      <td>0.000</td>\n",
              "      <td>0.000</td>\n",
              "      <td>9.970</td>\n",
              "    </tr>\n",
              "  </tbody>\n",
              "</table>\n",
              "<p>8064 rows × 11 columns</p>\n",
              "</div>"
            ],
            "text/plain": [
              "                     record_id  ...  fuel_cost_per_mmbtu\n",
              "14       f1_fuel_1994_12_6_0_2  ...                5.469\n",
              "19      f1_fuel_1994_12_6_0_14  ...                5.770\n",
              "21       f1_fuel_1994_12_6_1_8  ...                5.187\n",
              "23      f1_fuel_1994_12_6_1_11  ...                5.604\n",
              "25      f1_fuel_1994_12_6_1_14  ...                5.605\n",
              "...                        ...  ...                  ...\n",
              "29502  f1_fuel_2018_12_191_1_9  ...               15.174\n",
              "29505  f1_fuel_2018_12_432_0_2  ...               17.790\n",
              "29506  f1_fuel_2018_12_432_0_5  ...               16.590\n",
              "29507  f1_fuel_2018_12_432_0_8  ...               17.160\n",
              "29514   f1_fuel_2018_12_12_0_4  ...                9.970\n",
              "\n",
              "[8064 rows x 11 columns]"
            ]
          },
          "metadata": {
            "tags": []
          },
          "execution_count": 108
        }
      ]
    },
    {
      "cell_type": "markdown",
      "metadata": {
        "id": "3lZJ6c3UUP8x",
        "colab_type": "text"
      },
      "source": [
        "### **Nuclear energy source accounts for the highest amount of money spent on power as shown in the statistical summary report below:**"
      ]
    },
    {
      "cell_type": "code",
      "metadata": {
        "id": "00rDReJOHWHC",
        "colab_type": "code",
        "colab": {
          "base_uri": "https://localhost:8080/",
          "height": 269
        },
        "outputId": "7a616f56-72b9-4338-fa3d-94e771d62800"
      },
      "source": [
        "# summary of the different sources of fuel used in my fuel dataset and the total amount spent on each catogory\n",
        "filtered1 = eData[['fuel_type_code_pudl', 'fuel_cost_per_unit_burned']]\n",
        "filtered1 = filtered1.groupby(['fuel_type_code_pudl']).fuel_cost_per_unit_burned.agg([sum])\n",
        "filtered1\n",
        "\n",
        "\n",
        "\n",
        "\n"
      ],
      "execution_count": 7,
      "outputs": [
        {
          "output_type": "execute_result",
          "data": {
            "text/html": [
              "<div>\n",
              "<style scoped>\n",
              "    .dataframe tbody tr th:only-of-type {\n",
              "        vertical-align: middle;\n",
              "    }\n",
              "\n",
              "    .dataframe tbody tr th {\n",
              "        vertical-align: top;\n",
              "    }\n",
              "\n",
              "    .dataframe thead th {\n",
              "        text-align: right;\n",
              "    }\n",
              "</style>\n",
              "<table border=\"1\" class=\"dataframe\">\n",
              "  <thead>\n",
              "    <tr style=\"text-align: right;\">\n",
              "      <th></th>\n",
              "      <th>sum</th>\n",
              "    </tr>\n",
              "    <tr>\n",
              "      <th>fuel_type_code_pudl</th>\n",
              "      <th></th>\n",
              "    </tr>\n",
              "  </thead>\n",
              "  <tbody>\n",
              "    <tr>\n",
              "      <th>coal</th>\n",
              "      <td>576254.381</td>\n",
              "    </tr>\n",
              "    <tr>\n",
              "      <th>gas</th>\n",
              "      <td>156891.829</td>\n",
              "    </tr>\n",
              "    <tr>\n",
              "      <th>nuclear</th>\n",
              "      <td>4053318.428</td>\n",
              "    </tr>\n",
              "    <tr>\n",
              "      <th>oil</th>\n",
              "      <td>1361824.819</td>\n",
              "    </tr>\n",
              "    <tr>\n",
              "      <th>other</th>\n",
              "      <td>3048.394</td>\n",
              "    </tr>\n",
              "    <tr>\n",
              "      <th>waste</th>\n",
              "      <td>8607.492</td>\n",
              "    </tr>\n",
              "  </tbody>\n",
              "</table>\n",
              "</div>"
            ],
            "text/plain": [
              "                             sum\n",
              "fuel_type_code_pudl             \n",
              "coal                  576254.381\n",
              "gas                   156891.829\n",
              "nuclear              4053318.428\n",
              "oil                  1361824.819\n",
              "other                   3048.394\n",
              "waste                   8607.492"
            ]
          },
          "metadata": {
            "tags": []
          },
          "execution_count": 7
        }
      ]
    },
    {
      "cell_type": "markdown",
      "metadata": {
        "id": "1GVDxpZleh8a",
        "colab_type": "text"
      },
      "source": [
        "### **Data Visualization with Bar chart and Lineplot (using the result from the filtered fuel dataset above):**"
      ]
    },
    {
      "cell_type": "code",
      "metadata": {
        "id": "-HZM5NmQG_bL",
        "colab_type": "code",
        "colab": {
          "base_uri": "https://localhost:8080/",
          "height": 601
        },
        "outputId": "b8b487f3-0a5f-46b2-ab2d-34b97b058568"
      },
      "source": [
        "# Define the layout of the plot\n",
        "plt.figure(figsize=(21, 14))\n",
        "\n",
        "# Label the chart\n",
        "plt.title(\"Bar chart shows distribution of fuel sources (X-axis) in the dataset and the total cost per unit burned (Y-axis)\")\n",
        "\n",
        "# Plot the bar chart\n",
        "sns.barplot(x = filtered1.index, y = filtered1.iloc[:,0])\n",
        "\n",
        "# Label y-axis\n",
        "plt.ylabel(\"Total fuel cost per unit burned\")\n",
        "\n",
        "# Label x-axis\n",
        "plt.xlabel(\"Various fuel sources used\")"
      ],
      "execution_count": 8,
      "outputs": [
        {
          "output_type": "execute_result",
          "data": {
            "text/plain": [
              "Text(0.5, 0, 'Various fuel sources used')"
            ]
          },
          "metadata": {
            "tags": []
          },
          "execution_count": 8
        },
        {
          "output_type": "display_data",
          "data": {
            "image/png": "[encoded data removed]",
            "text/plain": [
              "<Figure size 1512x1008 with 1 Axes>"
            ]
          },
          "metadata": {
            "tags": [],
            "needs_background": "light"
          }
        }
      ]
    },
    {
      "cell_type": "markdown",
      "metadata": {
        "id": "wnjhGJDpZ1g8",
        "colab_type": "text"
      },
      "source": [
        "### Observation: As can be seen in the bar chart above fuel from oil follows nuclear fuel source in terms of usage. Nuclear fuel is free and safe. However, others aren't. Excess emission into the atmosphere of carbons from these fuel sources;Oil, Coal, Gas and others results in global warming which adversely affects and endangers the existence of humans and other living beings on earth and in sea. The reduction in over reliance on these carbon fuels will significantly reduce climatic change and the resulting global warming. Therefore, more nuclear fuel energy should be used in our plants globally in place of unsafe fuel from Carbon compounds."
      ]
    },
    {
      "cell_type": "code",
      "metadata": {
        "id": "S8rau72hjnSQ",
        "colab_type": "code",
        "colab": {
          "base_uri": "https://localhost:8080/",
          "height": 424
        },
        "outputId": "df09b35c-0b0a-4f60-c4ab-730afcfdf5f6"
      },
      "source": [
        "# Filter the required features from fuel dataset (eData)\n",
        "filtered2 = eData[['report_year','fuel_type_code_pudl', 'fuel_cost_per_unit_burned']]\n",
        "\n",
        "# Categorise the filter using groupby function based on report year and fuel type\n",
        "filtered2 = filtered2.groupby(['report_year', 'fuel_type_code_pudl']).fuel_cost_per_unit_burned.sum()\n",
        "\n",
        "# reset the index\n",
        "filtered2.reset_index()"
      ],
      "execution_count": 130,
      "outputs": [
        {
          "output_type": "execute_result",
          "data": {
            "text/html": [
              "<div>\n",
              "<style scoped>\n",
              "    .dataframe tbody tr th:only-of-type {\n",
              "        vertical-align: middle;\n",
              "    }\n",
              "\n",
              "    .dataframe tbody tr th {\n",
              "        vertical-align: top;\n",
              "    }\n",
              "\n",
              "    .dataframe thead th {\n",
              "        text-align: right;\n",
              "    }\n",
              "</style>\n",
              "<table border=\"1\" class=\"dataframe\">\n",
              "  <thead>\n",
              "    <tr style=\"text-align: right;\">\n",
              "      <th></th>\n",
              "      <th>report_year</th>\n",
              "      <th>fuel_type_code_pudl</th>\n",
              "      <th>fuel_cost_per_unit_burned</th>\n",
              "    </tr>\n",
              "  </thead>\n",
              "  <tbody>\n",
              "    <tr>\n",
              "      <th>0</th>\n",
              "      <td>1994</td>\n",
              "      <td>coal</td>\n",
              "      <td>14984.572</td>\n",
              "    </tr>\n",
              "    <tr>\n",
              "      <th>1</th>\n",
              "      <td>1994</td>\n",
              "      <td>gas</td>\n",
              "      <td>10792.496</td>\n",
              "    </tr>\n",
              "    <tr>\n",
              "      <th>2</th>\n",
              "      <td>1994</td>\n",
              "      <td>nuclear</td>\n",
              "      <td>227983.354</td>\n",
              "    </tr>\n",
              "    <tr>\n",
              "      <th>3</th>\n",
              "      <td>1994</td>\n",
              "      <td>oil</td>\n",
              "      <td>9362.194</td>\n",
              "    </tr>\n",
              "    <tr>\n",
              "      <th>4</th>\n",
              "      <td>1994</td>\n",
              "      <td>other</td>\n",
              "      <td>116.737</td>\n",
              "    </tr>\n",
              "    <tr>\n",
              "      <th>...</th>\n",
              "      <td>...</td>\n",
              "      <td>...</td>\n",
              "      <td>...</td>\n",
              "    </tr>\n",
              "    <tr>\n",
              "      <th>143</th>\n",
              "      <td>2018</td>\n",
              "      <td>coal</td>\n",
              "      <td>9488.197</td>\n",
              "    </tr>\n",
              "    <tr>\n",
              "      <th>144</th>\n",
              "      <td>2018</td>\n",
              "      <td>gas</td>\n",
              "      <td>4322.494</td>\n",
              "    </tr>\n",
              "    <tr>\n",
              "      <th>145</th>\n",
              "      <td>2018</td>\n",
              "      <td>nuclear</td>\n",
              "      <td>173267.161</td>\n",
              "    </tr>\n",
              "    <tr>\n",
              "      <th>146</th>\n",
              "      <td>2018</td>\n",
              "      <td>oil</td>\n",
              "      <td>33836.602</td>\n",
              "    </tr>\n",
              "    <tr>\n",
              "      <th>147</th>\n",
              "      <td>2018</td>\n",
              "      <td>waste</td>\n",
              "      <td>660.972</td>\n",
              "    </tr>\n",
              "  </tbody>\n",
              "</table>\n",
              "<p>148 rows × 3 columns</p>\n",
              "</div>"
            ],
            "text/plain": [
              "     report_year fuel_type_code_pudl  fuel_cost_per_unit_burned\n",
              "0           1994                coal                  14984.572\n",
              "1           1994                 gas                  10792.496\n",
              "2           1994             nuclear                 227983.354\n",
              "3           1994                 oil                   9362.194\n",
              "4           1994               other                    116.737\n",
              "..           ...                 ...                        ...\n",
              "143         2018                coal                   9488.197\n",
              "144         2018                 gas                   4322.494\n",
              "145         2018             nuclear                 173267.161\n",
              "146         2018                 oil                  33836.602\n",
              "147         2018               waste                    660.972\n",
              "\n",
              "[148 rows x 3 columns]"
            ]
          },
          "metadata": {
            "tags": []
          },
          "execution_count": 130
        }
      ]
    },
    {
      "cell_type": "code",
      "metadata": {
        "id": "-Ti2XNZ7KMZN",
        "colab_type": "code",
        "colab": {
          "base_uri": "https://localhost:8080/",
          "height": 173
        },
        "outputId": "928f3379-ac97-42a2-9f90-388db8f74876"
      },
      "source": [
        "eData.groupby(['fuel_type_code_pudl']).fuel_cost_per_unit_burned.describe()"
      ],
      "execution_count": 115,
      "outputs": [
        {
          "output_type": "execute_result",
          "data": {
            "text/plain": [
              "count       6.000000\n",
              "mean      873.814549\n",
              "std      2000.311758\n",
              "min        13.659397\n",
              "25%        18.569923\n",
              "50%        43.469976\n",
              "75%       143.513272\n",
              "max      4955.157002\n",
              "Name: fuel_cost_per_unit_burned, dtype: float64"
            ]
          },
          "metadata": {
            "tags": []
          },
          "execution_count": 115
        }
      ]
    },
    {
      "cell_type": "code",
      "metadata": {
        "id": "2wtdFX91XC1N",
        "colab_type": "code",
        "colab": {
          "base_uri": "https://localhost:8080/",
          "height": 269
        },
        "outputId": "c6e187eb-732b-425b-f68c-878776be2f75"
      },
      "source": [
        "# Total fuel quantity burned from 1994 to 2018\n",
        "eData.loc[(eData.report_year > 1993) & (eData.report_year < 1995)].groupby('fuel_type_code_pudl').fuel_qty_burned.agg([min,max,sum])"
      ],
      "execution_count": 7,
      "outputs": [
        {
          "output_type": "execute_result",
          "data": {
            "text/html": [
              "<div>\n",
              "<style scoped>\n",
              "    .dataframe tbody tr th:only-of-type {\n",
              "        vertical-align: middle;\n",
              "    }\n",
              "\n",
              "    .dataframe tbody tr th {\n",
              "        vertical-align: top;\n",
              "    }\n",
              "\n",
              "    .dataframe thead th {\n",
              "        text-align: right;\n",
              "    }\n",
              "</style>\n",
              "<table border=\"1\" class=\"dataframe\">\n",
              "  <thead>\n",
              "    <tr style=\"text-align: right;\">\n",
              "      <th></th>\n",
              "      <th>min</th>\n",
              "      <th>max</th>\n",
              "      <th>sum</th>\n",
              "    </tr>\n",
              "    <tr>\n",
              "      <th>fuel_type_code_pudl</th>\n",
              "      <th></th>\n",
              "      <th></th>\n",
              "      <th></th>\n",
              "    </tr>\n",
              "  </thead>\n",
              "  <tbody>\n",
              "    <tr>\n",
              "      <th>coal</th>\n",
              "      <td>1586.0</td>\n",
              "      <td>35063261.0</td>\n",
              "      <td>7.172082e+08</td>\n",
              "    </tr>\n",
              "    <tr>\n",
              "      <th>gas</th>\n",
              "      <td>15.0</td>\n",
              "      <td>89379732.0</td>\n",
              "      <td>2.432212e+09</td>\n",
              "    </tr>\n",
              "    <tr>\n",
              "      <th>nuclear</th>\n",
              "      <td>290.0</td>\n",
              "      <td>43461380.0</td>\n",
              "      <td>2.069366e+08</td>\n",
              "    </tr>\n",
              "    <tr>\n",
              "      <th>oil</th>\n",
              "      <td>2.0</td>\n",
              "      <td>136863.0</td>\n",
              "      <td>1.469716e+06</td>\n",
              "    </tr>\n",
              "    <tr>\n",
              "      <th>other</th>\n",
              "      <td>75.0</td>\n",
              "      <td>2654942.0</td>\n",
              "      <td>5.094458e+06</td>\n",
              "    </tr>\n",
              "    <tr>\n",
              "      <th>waste</th>\n",
              "      <td>113.0</td>\n",
              "      <td>506041.0</td>\n",
              "      <td>1.242241e+06</td>\n",
              "    </tr>\n",
              "  </tbody>\n",
              "</table>\n",
              "</div>"
            ],
            "text/plain": [
              "                        min         max           sum\n",
              "fuel_type_code_pudl                                  \n",
              "coal                 1586.0  35063261.0  7.172082e+08\n",
              "gas                    15.0  89379732.0  2.432212e+09\n",
              "nuclear               290.0  43461380.0  2.069366e+08\n",
              "oil                     2.0    136863.0  1.469716e+06\n",
              "other                  75.0   2654942.0  5.094458e+06\n",
              "waste                 113.0    506041.0  1.242241e+06"
            ]
          },
          "metadata": {
            "tags": []
          },
          "execution_count": 7
        }
      ]
    },
    {
      "cell_type": "markdown",
      "metadata": {
        "id": "9ZWm157rHHVG",
        "colab_type": "text"
      },
      "source": [
        "### **Prediction Model using Forest Modelling tool**"
      ]
    },
    {
      "cell_type": "code",
      "metadata": {
        "id": "6YLcmdMMHZi5",
        "colab_type": "code",
        "colab": {
          "base_uri": "https://localhost:8080/",
          "height": 156
        },
        "outputId": "8bb4ed7c-04fa-4a2e-a442-0671b40ed4ee"
      },
      "source": [
        "# In this model i used 'fuel_cost__per_unit_burned' as my prediction target labelled \"y\" and 6 feature names (columns) in a list named \"X\" from the fuel dataset as my predictive values \n",
        "\n",
        "# Define target object \"y\"\n",
        "y = eData.fuel_cost_per_unit_burned \n",
        "\n",
        "# Select features (Columns) and create X \n",
        "features_List = ['report_year', 'fuel_qty_burned', 'fuel_mmbtu_per_unit','fuel_cost_per_unit_burned', 'fuel_cost_per_unit_delivered', 'fuel_cost_per_mmbtu']\n",
        "X = eData[features_List]\n",
        "\n",
        "# Split features into dataset for training(training data) and dataset meant for validation (validation data)\n",
        "X_Trainer, X_Validate, y_Trainer, y_validate = train_test_split(X, y, random_state = 1)\n",
        "\n",
        "# Model selection\n",
        "fuel_cost_model = RandomForestRegressor(random_state = 1)\n",
        "\n",
        "# Model fitting\n",
        "fuel_cost_model.fit(X_Trainer, y_Trainer)\n",
        "\n",
        "# Do validation prediction\n",
        "predicted_value = fuel_cost_model.predict(X_Validate)\n",
        "\n",
        "# compute mean absolute error value\n",
        "compute_mae = mean_absolute_error(predicted_value, y_validate)\n",
        "\n",
        "print(\"Validation Mean Absolute Error without specifying number of leaf nodes is: {:,.0f}\".format(compute_mae))\n",
        "print(predicted_value)\n",
        "print(eData.fuel_cost_per_unit_burned.head())\n",
        "\n",
        "\n"
      ],
      "execution_count": 143,
      "outputs": [
        {
          "output_type": "stream",
          "text": [
            "Validation Mean Absolute Error without specifying number of leaf nodes is: 8\n",
            "[22.19879 93.60715 28.73884 ... 97.15306  7.9488  28.70052]\n",
            "0    18.59\n",
            "1    18.58\n",
            "2    39.72\n",
            "3    47.21\n",
            "4     2.77\n",
            "Name: fuel_cost_per_unit_burned, dtype: float64\n"
          ],
          "name": "stdout"
        }
      ]
    },
    {
      "cell_type": "markdown",
      "metadata": {
        "id": "qJ5I-gOJwNZy",
        "colab_type": "text"
      },
      "source": [
        "## **CONCLUSION:** \n",
        "**From the first five values of actual fuel_cost_per_unit_burned as at the dates mentioned in the dataset;** \n",
        "**18.59, 18.58, 39.72, 47.21, 2.77**\n",
        "**And the predicted outputs from my model above;**\n",
        "**22.10, 93.61, 28.74, 97.15, 7.95 etc**\n",
        "**Other modelling tools that could be used are Decision Tree (Less acurate compared to Forest model) and XGBOOST(a more acurate model than Forest)**"
      ]
    }
  ]
}
